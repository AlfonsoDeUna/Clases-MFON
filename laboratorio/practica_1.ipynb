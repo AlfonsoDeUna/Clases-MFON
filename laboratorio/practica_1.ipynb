{
  "nbformat": 4,
  "nbformat_minor": 0,
  "metadata": {
    "colab": {
      "name": "practica 1.ipynb",
      "provenance": [],
      "authorship_tag": "ABX9TyMtSo0hOz+d/y7EcRGCqyug",
      "include_colab_link": true
    },
    "kernelspec": {
      "name": "python3",
      "display_name": "Python 3"
    }
  },
  "cells": [
    {
      "cell_type": "markdown",
      "metadata": {
        "id": "view-in-github",
        "colab_type": "text"
      },
      "source": [
        "<a href=\"https://colab.research.google.com/github/AlfonsoDeUna/Clases-MFON/blob/master/laboratorio/practica_1.ipynb\" target=\"_parent\"><img src=\"https://colab.research.google.com/assets/colab-badge.svg\" alt=\"Open In Colab\"/></a>"
      ]
    },
    {
      "cell_type": "markdown",
      "metadata": {
        "id": "z-ISxoX1gDBI"
      },
      "source": [
        "laboratorio python sonidos\n"
      ]
    },
    {
      "cell_type": "code",
      "metadata": {
        "id": "ydh6xzmuf-K0"
      },
      "source": [
        ""
      ],
      "execution_count": null,
      "outputs": []
    }
  ]
}